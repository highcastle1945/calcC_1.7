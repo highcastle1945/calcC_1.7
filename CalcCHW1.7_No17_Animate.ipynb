{
 "cells": [
  {
   "cell_type": "code",
   "execution_count": 1,
   "metadata": {
    "collapsed": true
   },
   "outputs": [],
   "source": []
  },
  {
   "cell_type": "code",
   "execution_count": 7,
   "metadata": {
    "collapsed": false
   },
   "outputs": [],
   "source": [
    "from numpy import *\n",
    "import matplotlib.pyplot as plt\n",
    "import time\n",
    "%matplotlib tk\n",
    "plt.ion()\n",
    "\n",
    "def TwoCOS(x):\n",
    "    return 2*cos(x)\n",
    "\n",
    "def TwoSIN(x):\n",
    "    return 2*sin(x)\n",
    "\n",
    "x= linspace(pi/2, 3*pi/2, 100)\n",
    "line , = plt.plot(3+TwoCOS(x), 1+TwoSIN(x))\n",
    "\n",
    "for b in linspace(pi/2,8*pi, 40):\n",
    "    line.set_data(3+TwoCOS(x+b),1+TwoSIN(x+b))\n",
    "    plt.draw()\n",
    "    time.sleep(0.1)\n"
   ]
  },
  {
   "cell_type": "code",
   "execution_count": null,
   "metadata": {
    "collapsed": false
   },
   "outputs": [],
   "source": []
  },
  {
   "cell_type": "code",
   "execution_count": null,
   "metadata": {
    "collapsed": true
   },
   "outputs": [],
   "source": []
  }
 ],
 "metadata": {
  "kernelspec": {
   "display_name": "Python 2",
   "language": "python",
   "name": "python2"
  },
  "language_info": {
   "codemirror_mode": {
    "name": "ipython",
    "version": 2
   },
   "file_extension": ".py",
   "mimetype": "text/x-python",
   "name": "python",
   "nbconvert_exporter": "python",
   "pygments_lexer": "ipython2",
   "version": "2.7.7"
  }
 },
 "nbformat": 4,
 "nbformat_minor": 0
}
